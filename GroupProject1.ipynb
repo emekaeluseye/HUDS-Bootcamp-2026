{
 "cells": [
  {
   "cell_type": "code",
   "execution_count": null,
   "id": "b814f627",
   "metadata": {},
   "outputs": [],
   "source": [
    "# Environment Notebook\n",
    "!pip install pip\n",
    "!pip install --upgrade pip\n",
    "!pip install numpy\n",
    "!pip install pandas\n",
    "!pip install matplotlib\n",
    "!pip install seaborn\n",
    "!pip install geopandas\n",
    "!pip install scipy\n",
    "!pip install statsmodels\n",
    "!pip install scikit-learn"
   ]
  },
  {
   "cell_type": "code",
   "execution_count": null,
   "id": "b339666f",
   "metadata": {},
   "outputs": [],
   "source": []
  },
  {
   "cell_type": "code",
   "execution_count": null,
   "id": "cd4dc0ca",
   "metadata": {},
   "outputs": [],
   "source": []
  }
 ],
 "metadata": {
  "language_info": {
   "name": "python"
  }
 },
 "nbformat": 4,
 "nbformat_minor": 5
}
